{
 "cells": [
  {
   "cell_type": "code",
   "execution_count": null,
   "id": "08034c32-bdf1-416b-87d7-b225a30c7acf",
   "metadata": {},
   "outputs": [],
   "source": [
    "# this is to compute correlation analysis\n",
    "*today we are treating jamb score and its correlation*\n"
   ]
  }
 ],
 "metadata": {
  "kernelspec": {
   "display_name": "Python 3 (ipykernel)",
   "language": "python",
   "name": "python3"
  },
  "language_info": {
   "codemirror_mode": {
    "name": "ipython",
    "version": 3
   },
   "file_extension": ".py",
   "mimetype": "text/x-python",
   "name": "python",
   "nbconvert_exporter": "python",
   "pygments_lexer": "ipython3",
   "version": "3.13.1"
  }
 },
 "nbformat": 4,
 "nbformat_minor": 5
}
