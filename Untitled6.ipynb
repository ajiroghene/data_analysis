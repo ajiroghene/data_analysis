{
 "cells": [
  {
   "cell_type": "code",
   "execution_count": null,
   "id": "ad2d55a7-cda8-48aa-aa8c-f06b1a7faff6",
   "metadata": {},
   "outputs": [],
   "source": [
    "# CLEANING EMPTY CELL USING THE dropna () this will return a new dataframe but would change the orinanal\n",
    "import pandas as pd\n",
    "\n",
    "df = pd.read_csv('jamb.csv')\n",
    "\n",
    "new_df = df.dropna()\n",
    "\n",
    "print(new_df.to_string())"
   ]
  },
  {
   "cell_type": "code",
   "execution_count": null,
   "id": "891f9cb9-c8c3-4ea2-8811-ddbd163dd97b",
   "metadata": {},
   "outputs": [],
   "source": [
    "#If you want to change the original DataFrame, use the inplace = True argument:\n",
    "import pandas as pd\n",
    "\n",
    "df = pd.read_csv('jamb.csv')\n",
    "\n",
    "df.dropna(inplace = True)\n",
    "\n",
    "print(df.to_string())"
   ]
  }
 ],
 "metadata": {
  "kernelspec": {
   "display_name": "Python 3 (ipykernel)",
   "language": "python",
   "name": "python3"
  },
  "language_info": {
   "codemirror_mode": {
    "name": "ipython",
    "version": 3
   },
   "file_extension": ".py",
   "mimetype": "text/x-python",
   "name": "python",
   "nbconvert_exporter": "python",
   "pygments_lexer": "ipython3",
   "version": "3.13.1"
  }
 },
 "nbformat": 4,
 "nbformat_minor": 5
}
