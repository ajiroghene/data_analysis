{
 "cells": [
  {
   "cell_type": "code",
   "execution_count": null,
   "id": "ad2d55a7-cda8-48aa-aa8c-f06b1a7faff6",
   "metadata": {},
   "outputs": [],
   "source": [
    "# CLEANING EMPTY CELL USING THE dropna () this will return a new dataframe but would change the orinanal\n",
    "import pandas as pd\n",
    "\n",
    "df = pd.read_csv('jamb.csv')\n",
    "\n",
    "new_df = df.dropna()\n",
    "\n",
    "print(new_df.to_string())"
   ]
  },
  {
   "cell_type": "code",
   "execution_count": null,
   "id": "50525f26-721e-488a-a954-a37c06aa0fe8",
   "metadata": {},
   "outputs": [],
   "source": []
  },
  {
   "cell_type": "code",
   "execution_count": null,
   "id": "891f9cb9-c8c3-4ea2-8811-ddbd163dd97b",
   "metadata": {},
   "outputs": [],
   "source": [
    "#If you want to change the original DataFrame, use the inplace = True argument: Remove all rows with NULL values using the dropna()\n",
    "import pandas as pd\n",
    "\n",
    "df = pd.read_csv('jamb.csv')\n",
    "\n",
    "df.dropna(inplace = True)\n",
    "\n",
    "print(df.to_string())"
   ]
  },
  {
   "cell_type": "code",
   "execution_count": null,
   "id": "59e71976-1350-42ba-aecf-8335b2c74a0f",
   "metadata": {},
   "outputs": [],
   "source": [
    "import pandas as pd\n",
    "\n",
    "df = pd.read_csv('jamb.csv')\n",
    "\n",
    "print(df.duplicated())"
   ]
  },
  {
   "cell_type": "code",
   "execution_count": null,
   "id": "69ce216d-502d-4897-8136-9402f4b77b01",
   "metadata": {},
   "outputs": [],
   "source": [
    "#replacing a null value with a mean value in a specify column\n",
    "import pandas as pd\n",
    "\n",
    "df = pd.read_csv('jamb.csv')\n",
    "\n",
    "df[\"columname\"].fillna(1, inplace = True)\n"
   ]
  },
  {
   "cell_type": "code",
   "execution_count": null,
   "id": "15d62cc6-acf4-45ee-ac6e-924e8ca4e51f",
   "metadata": {},
   "outputs": [],
   "source": [
    "#replacing a null value in the entire table with a value 1\n",
    "import pandas as pd\n",
    "\n",
    "df = pd.read_csv('music.csv')\n",
    "\n",
    "df.fillna(1, inplace = True)"
   ]
  },
  {
   "cell_type": "code",
   "execution_count": null,
   "id": "649e89e7-16c9-4c8c-8b19-0be21a973c1d",
   "metadata": {},
   "outputs": [],
   "source": [
    "# replace a null value with mean value of a certain column\n",
    "import pandas as pd\n",
    "\n",
    "df = pd.read_csv('jamb.csv')\n",
    "\n",
    "x = df[\"studyhours\"].mean()\n",
    "\n",
    "df[\"studyhour\"].fillna(x, inplace = True)"
   ]
  },
  {
   "cell_type": "code",
   "execution_count": null,
   "id": "0fa2c120-93f3-4074-887b-2705350d39bd",
   "metadata": {},
   "outputs": [],
   "source": [
    "#Calculate the MEDIAN, and replace any empty values with it:\n",
    "import pandas as pd\n",
    "\n",
    "df = pd.read_csv('jamb.csv')\n",
    "\n",
    "x = df[\"studyhours\"].median()\n",
    "\n",
    "df[\"studyhour\"].fillna(x, inplace = True)"
   ]
  },
  {
   "cell_type": "code",
   "execution_count": null,
   "id": "b48f069e-fd64-4a1d-a5b8-787f1c111fd0",
   "metadata": {},
   "outputs": [],
   "source": [
    "# calculate mode and replace any empty values with it\n",
    "import pandas as pd\n",
    "\n",
    "df = pd.read_csv('jamb.csv')\n",
    "\n",
    "x = df[\"assignment\"].mode()[0]\n",
    "\n",
    "df[\"assignment\"].fillna(x, inplace = True)"
   ]
  },
  {
   "cell_type": "code",
   "execution_count": null,
   "id": "876f9649-9b66-44f9-9d50-633e59d47c9d",
   "metadata": {},
   "outputs": [],
   "source": [
    "import pandas as pd\n",
    "\n",
    "df = pd.read_csv('jamb.csv')\n",
    "\n",
    "print(df.duplicated())\n"
   ]
  },
  {
   "cell_type": "code",
   "execution_count": null,
   "id": "e4b9fca4-7dc0-4b34-a87e-fe0640a290c5",
   "metadata": {},
   "outputs": [],
   "source": [
    "# this is to drop rows that \n",
    "import pandas as pd\n",
    "\n",
    "df = pd.read_csv('jamb.csv')\n",
    "\n",
    "df.drop_duplicates(inplace = True)\n",
    "\n",
    "print(df.to_string())"
   ]
  },
  {
   "cell_type": "code",
   "execution_count": null,
   "id": "7848ced5-2886-461b-8398-49f3ddecfb07",
   "metadata": {},
   "outputs": [],
   "source": [
    "import pandas as pd\n",
    "\n",
    "df = pd.read_csv('jamb.csv')\n",
    "\n",
    "df.replace(0, '', inplace = True)\n",
    "\n",
    "print(df.to_string())"
   ]
  }
 ],
 "metadata": {
  "kernelspec": {
   "display_name": "Python 3 (ipykernel)",
   "language": "python",
   "name": "python3"
  },
  "language_info": {
   "codemirror_mode": {
    "name": "ipython",
    "version": 3
   },
   "file_extension": ".py",
   "mimetype": "text/x-python",
   "name": "python",
   "nbconvert_exporter": "python",
   "pygments_lexer": "ipython3",
   "version": "3.13.1"
  }
 },
 "nbformat": 4,
 "nbformat_minor": 5
}
